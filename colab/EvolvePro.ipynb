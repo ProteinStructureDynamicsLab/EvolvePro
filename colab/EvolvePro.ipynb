{
  "cells": [
    {
      "cell_type": "markdown",
      "metadata": {
        "id": "z7U8tcMUo7ah"
      },
      "source": [
        "## Setup:"
      ]
    },
    {
      "cell_type": "code",
      "execution_count": null,
      "metadata": {
        "id": "eY0TYzM70-cE"
      },
      "outputs": [],
      "source": [
        "!git clone https://github.com/mat10d/EvolvePro.git\n",
        "%cd EvolvePro/"
      ]
    },
    {
      "cell_type": "code",
      "execution_count": null,
      "metadata": {
        "colab": {
          "base_uri": "https://localhost:8080/"
        },
        "collapsed": true,
        "id": "Nxum_v_ieBlO",
        "outputId": "924e777f-fbb4-4987-f321-d2a7536c8006"
      },
      "outputs": [],
      "source": [
        "%%capture\n",
        "\n",
        "!pip install pandas numpy scikit-learn scikit-learn-extra xgboost matplotlib seaborn biopython scipy torch fair-esm\n",
        "!mkdir /content/output"
      ]
    },
    {
      "cell_type": "markdown",
      "metadata": {
        "id": "MPYtN9W5o-UD"
      },
      "source": [
        "## Process"
      ]
    },
    {
      "cell_type": "code",
      "execution_count": null,
      "metadata": {
        "colab": {
          "base_uri": "https://localhost:8080/"
        },
        "id": "xZVqxVCXftSE",
        "outputId": "09d891f3-9d52-4c4c-fc57-06198930becb"
      },
      "outputs": [],
      "source": [
        "from evolvepro.src.process import generate_wt, generate_single_aa_mutants\n",
        "generate_wt('MAKEDNIEMQGTVLETLPNTMFRVELENGHVVTAHISGKMRKNYIRILTGDKVTVELTPYDLSKGRIVFRSR', output_file='/content/output/kelsic_WT.fasta')\n",
        "generate_single_aa_mutants('/content/output/kelsic_WT.fasta', output_file='/content/output/kelsic.fasta')"
      ]
    },
    {
      "cell_type": "code",
      "execution_count": null,
      "metadata": {
        "colab": {
          "base_uri": "https://localhost:8080/"
        },
        "id": "hhtBO0g2gu2R",
        "outputId": "19ec031b-f11b-47f7-bedc-4c120afdd1c9"
      },
      "outputs": [],
      "source": [
        "from evolvepro.src.process import suggest_initial_mutants\n",
        "suggest_initial_mutants('/content/output/kelsic.fasta', num_mutants=12, random_seed=42)"
      ]
    },
    {
      "cell_type": "markdown",
      "metadata": {
        "id": "eXNaQq1IpBBV"
      },
      "source": [
        "## PLM"
      ]
    },
    {
      "cell_type": "code",
      "execution_count": null,
      "metadata": {
        "colab": {
          "base_uri": "https://localhost:8080/"
        },
        "id": "ASOkwC-nlGkN",
        "outputId": "62731794-5ea2-4a84-bb15-9ea5d107a296"
      },
      "outputs": [],
      "source": [
        "!python evolvepro/plm/esm/extract.py esm1b_t33_650M_UR50S /content/output/kelsic.fasta /content/output/kelsic_esm1b_t33_650M_UR50S --toks_per_batch 512 --include mean --concatenate_dir /content/output"
      ]
    },
    {
      "cell_type": "markdown",
      "metadata": {
        "id": "5cYm9CwunCUr"
      },
      "source": [
        "## Run EVOLVEpro"
      ]
    },
    {
      "cell_type": "code",
      "execution_count": 9,
      "metadata": {
        "id": "UVmQ1CruxxQr"
      },
      "outputs": [],
      "source": [
        "from evolvepro.src.evolve import evolve_experimental\n",
        "\n",
        "protein_name = 'kelsic'\n",
        "embeddings_base_path = '/content/output'\n",
        "embeddings_file_name = 'kelsic_esm1b_t33_650M_UR50S.csv'\n",
        "round_base_path = '/content/EvolvePro/colab/rounds_data'\n",
        "wt_fasta_path = \"/content/output/kelsic_WT.fasta\"\n",
        "number_of_variants = 12\n",
        "output_dir = '/content/output/'\n",
        "rename_WT = False"
      ]
    },
    {
      "cell_type": "markdown",
      "metadata": {
        "id": "Mtt0jtAm1iw2"
      },
      "source": [
        "#### Round 1"
      ]
    },
    {
      "cell_type": "code",
      "execution_count": null,
      "metadata": {
        "colab": {
          "base_uri": "https://localhost:8080/"
        },
        "id": "XYcxk5M5ot4m",
        "outputId": "6146c4f3-66ce-43af-817a-da30a45d10de"
      },
      "outputs": [],
      "source": [
        "round_name = 'Round1'\n",
        "round_file_names = ['kelsic_Round1.xlsx']\n",
        "\n",
        "evolve_experimental(\n",
        "    protein_name,\n",
        "    round_name,\n",
        "    embeddings_base_path,\n",
        "    embeddings_file_name,\n",
        "    round_base_path,\n",
        "    round_file_names,\n",
        "    wt_fasta_path,\n",
        "    rename_WT,\n",
        "    number_of_variants,\n",
        "    output_dir\n",
        ")"
      ]
    },
    {
      "cell_type": "markdown",
      "metadata": {
        "id": "hp1LcEwY1nrS"
      },
      "source": [
        "#### Round 2"
      ]
    },
    {
      "cell_type": "code",
      "execution_count": null,
      "metadata": {
        "colab": {
          "base_uri": "https://localhost:8080/"
        },
        "id": "twLZxKaOyj4X",
        "outputId": "cee8754b-f101-427b-fabf-670c1d1a173b"
      },
      "outputs": [],
      "source": [
        "round_name = 'Round2'\n",
        "round_file_names = ['kelsic_Round1.xlsx', 'kelsic_Round2.xlsx']\n",
        "\n",
        "evolve_experimental(\n",
        "    protein_name,\n",
        "    round_name,\n",
        "    embeddings_base_path,\n",
        "    embeddings_file_name,\n",
        "    round_base_path,\n",
        "    round_file_names,\n",
        "    wt_fasta_path,\n",
        "    rename_WT,\n",
        "    number_of_variants,\n",
        "    output_dir\n",
        ")"
      ]
    },
    {
      "cell_type": "markdown",
      "metadata": {
        "id": "B4EPm84C1pS8"
      },
      "source": [
        "#### Round 3"
      ]
    },
    {
      "cell_type": "code",
      "execution_count": null,
      "metadata": {
        "colab": {
          "base_uri": "https://localhost:8080/"
        },
        "id": "kz5fPRMJy7Dk",
        "outputId": "302b7943-e574-49f0-b244-a8dcc88914b7"
      },
      "outputs": [],
      "source": [
        "round_name = 'Round3'\n",
        "round_file_names = ['kelsic_Round1.xlsx', 'kelsic_Round2.xlsx', 'kelsic_Round3.xlsx']\n",
        "\n",
        "evolve_experimental(\n",
        "    protein_name,\n",
        "    round_name,\n",
        "    embeddings_base_path,\n",
        "    embeddings_file_name,\n",
        "    round_base_path,\n",
        "    round_file_names,\n",
        "    wt_fasta_path,\n",
        "    rename_WT,\n",
        "    number_of_variants,\n",
        "    output_dir\n",
        ")"
      ]
    },
    {
      "cell_type": "markdown",
      "metadata": {
        "id": "uzKvCWGX1qxB"
      },
      "source": [
        "#### Round 4"
      ]
    },
    {
      "cell_type": "code",
      "execution_count": null,
      "metadata": {
        "colab": {
          "base_uri": "https://localhost:8080/"
        },
        "id": "w8zWK7IlzOwB",
        "outputId": "5333854c-1e28-4826-dbab-176d256b8d2e"
      },
      "outputs": [],
      "source": [
        "round_name = 'Round4'\n",
        "round_file_names = ['kelsic_Round1.xlsx', 'kelsic_Round2.xlsx', 'kelsic_Round3.xlsx', 'kelsic_Round4.xlsx']\n",
        "\n",
        "evolve_experimental(\n",
        "    protein_name,\n",
        "    round_name,\n",
        "    embeddings_base_path,\n",
        "    embeddings_file_name,\n",
        "    round_base_path,\n",
        "    round_file_names,\n",
        "    wt_fasta_path,\n",
        "    rename_WT,\n",
        "    number_of_variants,\n",
        "    output_dir\n",
        ")"
      ]
    },
    {
      "cell_type": "markdown",
      "metadata": {
        "id": "qDPcYiLY1tZl"
      },
      "source": [
        "#### Round 5"
      ]
    },
    {
      "cell_type": "code",
      "execution_count": null,
      "metadata": {
        "colab": {
          "base_uri": "https://localhost:8080/"
        },
        "id": "nruFZ5a4ziFl",
        "outputId": "515580cb-e8b0-46f9-be3e-e7cf114d0365"
      },
      "outputs": [],
      "source": [
        "round_name = 'Round5'\n",
        "round_file_names = ['kelsic_Round1.xlsx', 'kelsic_Round2.xlsx', 'kelsic_Round3.xlsx', 'kelsic_Round4.xlsx', 'kelsic_Round5.xlsx']\n",
        "\n",
        "evolve_experimental(\n",
        "    protein_name,\n",
        "    round_name,\n",
        "    embeddings_base_path,\n",
        "    embeddings_file_name,\n",
        "    round_base_path,\n",
        "    round_file_names,\n",
        "    wt_fasta_path,\n",
        "    rename_WT,\n",
        "    number_of_variants,\n",
        "    output_dir\n",
        ")"
      ]
    },
    {
      "cell_type": "markdown",
      "metadata": {
        "id": "g0YzCWOL1xdF"
      },
      "source": [
        "## Plot"
      ]
    },
    {
      "cell_type": "code",
      "execution_count": 15,
      "metadata": {
        "id": "46D0aZra2ffS"
      },
      "outputs": [],
      "source": [
        "from evolvepro.src.plot import read_exp_data, plot_variants_by_iteration\n",
        "\n",
        "round_base_path = '/content/EvolvePro/colab/rounds_data'\n",
        "round_file_names = ['kelsic_Round1.xlsx', 'kelsic_Round2.xlsx', 'kelsic_Round3.xlsx', 'kelsic_Round4.xlsx', 'kelsic_Round5.xlsx']\n",
        "wt_fasta_path = \"/content/output/kelsic_WT.fasta\""
      ]
    },
    {
      "cell_type": "code",
      "execution_count": null,
      "metadata": {
        "colab": {
          "base_uri": "https://localhost:8080/",
          "height": 607
        },
        "id": "KyYpI7pr2a1i",
        "outputId": "527261be-6857-4d13-e01a-e912cfc3576e"
      },
      "outputs": [],
      "source": [
        "df = read_exp_data(round_base_path, round_file_names, wt_fasta_path)\n",
        "plot_variants_by_iteration(df, fitness_column='fitness', output_dir=output_dir, output_file=\"kelsic\")\n"
      ]
    }
  ],
  "metadata": {
    "accelerator": "GPU",
    "colab": {
      "gpuType": "T4",
      "provenance": []
    },
    "kernelspec": {
      "display_name": "Python 3",
      "name": "python3"
    },
    "language_info": {
      "name": "python"
    }
  },
  "nbformat": 4,
  "nbformat_minor": 0
}
