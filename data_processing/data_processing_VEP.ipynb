{
 "cells": [
  {
   "cell_type": "code",
   "execution_count": 2,
   "metadata": {},
   "outputs": [],
   "source": [
    "import pandas as pd\n",
    "import numpy as np\n",
    "import matplotlib.pyplot as plt\n",
    "from io import StringIO\n",
    "import os\n",
    "import xlrd\n",
    "from Bio import SeqIO\n",
    "from Bio.Seq import Seq\n",
    "from Bio.SeqRecord import SeqRecord\n"
   ]
  },
  {
   "cell_type": "code",
   "execution_count": 3,
   "metadata": {},
   "outputs": [],
   "source": [
    "import warnings\n",
    "\n",
    "# Suppress the SettingWithCopyWarning warnings\n",
    "warnings.filterwarnings('ignore')\n",
    "\n",
    "# Your existing code here\n",
    "\n",
    "# Reset the warning filters\n",
    "warnings.resetwarnings()\n"
   ]
  },
  {
   "cell_type": "code",
   "execution_count": 4,
   "metadata": {},
   "outputs": [],
   "source": [
    "def plot_mutations_per_position(df):\n",
    "    # Print number of NA\n",
    "    print(f'Number of NA: {df[\"variant\"].isna().sum()}')\n",
    "    # Print number of WT\n",
    "    if \"WT\" in df[\"variant\"].unique():\n",
    "        print(f'Number of WT: {df[\"variant\"].value_counts()[\"WT\"]}')\n",
    "    else:\n",
    "        print('WT not found in mutation column')\n",
    "    # Filter out rows with missing or \"WT\" mutations\n",
    "    df_filtered = df.dropna(subset=[\"variant\"]).query('variant != \"WT\"')\n",
    "\n",
    "    # Initialize an empty dictionary to store the number of mutations per position\n",
    "    mutations_per_position = {}\n",
    "    \n",
    "    # Print the size of the dataset\n",
    "    print(f'Number of variants: {len(df_filtered)}')\n",
    "\n",
    "    # Print the number of fitness_binary = 1 values\n",
    "    print(f'Number of fitness_binary = 1: {len(df_filtered.query(\"fitness_binary == 1\"))}')\n",
    "\n",
    "    # Iterate over the rows of the DataFrame and increment the count of mutations at each position\n",
    "    for mutation_str in df_filtered[\"variant\"]:\n",
    "        # Remove the initial and final characters from the mutation string\n",
    "        pos = int(mutation_str[1:-1])\n",
    "\n",
    "        # Increment the count of mutations at this position in the dictionary\n",
    "        if pos in mutations_per_position:\n",
    "            mutations_per_position[pos] += 1\n",
    "        else:\n",
    "            mutations_per_position[pos] = 1\n",
    "\n",
    "    # Plot a histogram of the number of mutations per position\n",
    "    plt.bar(mutations_per_position.keys(), mutations_per_position.values())\n",
    "    plt.xlabel('Number of mutations')\n",
    "    plt.ylabel('Number of positions')\n",
    "    plt.title('Mutations per position')\n",
    "    plt.show()"
   ]
  },
  {
   "cell_type": "code",
   "execution_count": 5,
   "metadata": {},
   "outputs": [],
   "source": [
    "def plot_histogram_of_readout(df, column_name):\n",
    "    # Plot histogram of readout values for all mutants\n",
    "    fig, ax = plt.subplots()\n",
    "    ax.hist(df[column_name].values, bins=100)\n",
    "    ax.set_xlabel(column_name)\n",
    "    ax.set_ylabel('Number of mutants')\n",
    "    ax.set_title(f'{column_name} distribution across mutants')\n",
    "    \n",
    "    # Add vertical line to indicate WT value\n",
    "    # if there is a WT value, add a vertical line\n",
    "    if \"WT\" in df[\"variant\"].unique():\n",
    "        wt_val = df.loc[df[\"variant\"] == 'WT', column_name].values[0]\n",
    "        ax.axvline(wt_val, color='red', linestyle='--', label='WT')\n",
    "    ax.legend()\n",
    "    plt.show()\n"
   ]
  },
  {
   "cell_type": "code",
   "execution_count": 6,
   "metadata": {},
   "outputs": [],
   "source": [
    "def process_dataset(dataset_name, sheet_name, fitness_column, cutoff_value, cutoff_rule='greater_than', AA_shift=None):\n",
    "\n",
    "    if isinstance(sheet_name, str):\n",
    "        # Read the summary Excel file\n",
    "        dataframe = pd.read_excel('dataframes_VEP/Source.xlsx', sheet_name=sheet_name)\n",
    "    else:\n",
    "        dataframe = sheet_name\n",
    "\n",
    "    # Filter out rows with missing values in the fitness column\n",
    "    filtered_df = dataframe.dropna(subset=[fitness_column])\n",
    "\n",
    "    # Read the WT sequence based on FASTA file\n",
    "    fasta_file = f'dataframes_VEP/{dataset_name}_WT.fasta'\n",
    "\n",
    "    sequences = SeqIO.parse(fasta_file, 'fasta')\n",
    "\n",
    "    for record in sequences:\n",
    "        wt_sequence = str(record.seq)\n",
    "        break\n",
    "    \n",
    "    # print(f'WT sequence: {wt_sequence}')\n",
    "\n",
    "    # Write the filtered dataframe to a FASTA file\n",
    "    output_file = f'output/{dataset_name}.fasta'\n",
    "    with open(output_file, 'w') as f:\n",
    "        for variant in filtered_df['variant']:\n",
    "            # extract the integer position from the variant string\n",
    "            # if AA_shift is None, then the position is the integer in the variant string\n",
    "            if AA_shift is None:\n",
    "                position = int(variant[1:-1]) - 1\n",
    "            else:\n",
    "                position = int(variant[1:-1]) - AA_shift\n",
    "            # extract the WT amino acid from the variant string\n",
    "            wt_aa = variant[0]\n",
    "            # extract the mutated amino acid from the variant string\n",
    "            mutated_aa = variant[-1]\n",
    "\n",
    "            # print(f'Position: {position}, WT AA: {wt_aa}, Mutated AA: {mutated_aa}')\n",
    "\n",
    "            if wt_sequence[position] == wt_aa:\n",
    "                sequence = wt_sequence[:position] + mutated_aa + wt_sequence[position+1:]\n",
    "                f.write(f'>{variant}\\n{sequence}\\n')\n",
    "            else:\n",
    "                print(f'Error: WT amino acid at position {position} is not {wt_aa}')\n",
    "\n",
    "    # Make a fitness column called 'fitness' from fitness_column\n",
    "    filtered_df['fitness'] = filtered_df[fitness_column]\n",
    "\n",
    "    # Make a min-max scaled column called 'fitness_scaled' from fitness_column\n",
    "    filtered_df['fitness_scaled'] = (filtered_df[fitness_column] - filtered_df[fitness_column].min()) / (filtered_df[fitness_column].max() - filtered_df[fitness_column].min())\n",
    "\n",
    "    # Make a binary column called 'fitness_binary' from fitness_column\n",
    "    if cutoff_rule == 'greater_than':\n",
    "        filtered_df.loc[:, 'fitness_binary'] = np.where(filtered_df[fitness_column] > cutoff_value, 1, 0)\n",
    "    elif cutoff_rule == 'less_than':\n",
    "        filtered_df.loc[:, 'fitness_binary'] = np.where(filtered_df[fitness_column] < cutoff_value, 1, 0)\n",
    "\n",
    "    # Save the filtered dataframe to a CSV file dataset_name_labels.csv in the /output/ folder\n",
    "    filtered_df.to_csv(f'output/{dataset_name}_labels.csv', index=False)\n",
    "\n",
    "    # Plot histogram of readout values for all mutants\n",
    "    plot_histogram_of_readout(filtered_df, 'fitness_scaled')\n",
    "\n",
    "    # plot mutations per position\n",
    "    plot_mutations_per_position(filtered_df)"
   ]
  },
  {
   "attachments": {},
   "cell_type": "markdown",
   "metadata": {},
   "source": [
    "Brenan"
   ]
  },
  {
   "cell_type": "code",
   "execution_count": 6,
   "metadata": {},
   "outputs": [
    {
     "name": "stderr",
     "output_type": "stream",
     "text": [
      "/var/folders/zr/5tgny8y12mjbc7shm972qr3m0000gn/T/ipykernel_8817/4034119550.py:47: SettingWithCopyWarning: \n",
      "A value is trying to be set on a copy of a slice from a DataFrame.\n",
      "Try using .loc[row_indexer,col_indexer] = value instead\n",
      "\n",
      "See the caveats in the documentation: https://pandas.pydata.org/pandas-docs/stable/user_guide/indexing.html#returning-a-view-versus-a-copy\n",
      "  filtered_df['fitness'] = filtered_df[fitness_column]\n",
      "/var/folders/zr/5tgny8y12mjbc7shm972qr3m0000gn/T/ipykernel_8817/4034119550.py:50: SettingWithCopyWarning: \n",
      "A value is trying to be set on a copy of a slice from a DataFrame.\n",
      "Try using .loc[row_indexer,col_indexer] = value instead\n",
      "\n",
      "See the caveats in the documentation: https://pandas.pydata.org/pandas-docs/stable/user_guide/indexing.html#returning-a-view-versus-a-copy\n",
      "  filtered_df['fitness_scaled'] = (filtered_df[fitness_column] - filtered_df[fitness_column].min()) / (filtered_df[fitness_column].max() - filtered_df[fitness_column].min())\n",
      "/var/folders/zr/5tgny8y12mjbc7shm972qr3m0000gn/T/ipykernel_8817/4034119550.py:54: SettingWithCopyWarning: \n",
      "A value is trying to be set on a copy of a slice from a DataFrame.\n",
      "Try using .loc[row_indexer,col_indexer] = value instead\n",
      "\n",
      "See the caveats in the documentation: https://pandas.pydata.org/pandas-docs/stable/user_guide/indexing.html#returning-a-view-versus-a-copy\n",
      "  filtered_df.loc[:, 'fitness_binary'] = np.where(filtered_df[fitness_column] > cutoff_value, 1, 0)\n",
      "No artists with labels found to put in legend.  Note that artists whose label start with an underscore are ignored when legend() is called with no argument.\n"
     ]
    },
    {
     "data": {
      "image/png": "[encoded data removed]",
      "text/plain": [
       "<Figure size 640x480 with 1 Axes>"
      ]
     },
     "metadata": {},
     "output_type": "display_data"
    },
    {
     "name": "stdout",
     "output_type": "stream",
     "text": [
      "Number of NA: 0\n",
      "WT not found in mutation column\n",
      "Number of variants: 6810\n",
      "Number of fitness_binary = 1: 77\n"
     ]
    },
    {
     "data": {
      "image/png": "[encoded data removed]",
      "text/plain": [
       "<Figure size 640x480 with 1 Axes>"
      ]
     },
     "metadata": {},
     "output_type": "display_data"
    }
   ],
   "source": [
    "dataset_name = 'brenan'  # Provide the dataset sheet name\n",
    "fitness_column = 'DMS_SCH'  # Provide the fitness column name\n",
    "sheet_name = 'MAPK1'  # Provide the sheet name\n",
    "cutoff_value = 2.5  # Provide the cutoff value\n",
    "\n",
    "process_dataset(dataset_name, sheet_name, fitness_column, cutoff_value)"
   ]
  },
  {
   "cell_type": "code",
   "execution_count": 7,
   "metadata": {},
   "outputs": [
    {
     "name": "stdout",
     "output_type": "stream",
     "text": [
      "jones:\n",
      "Total values above k_cutoff: 9\n",
      "Values above k_cutoff and cutoff: 2\n",
      "----------------------------------------\n",
      "stiffler:\n",
      "Total values above k_cutoff: 10\n",
      "Values above k_cutoff and cutoff: 4\n",
      "----------------------------------------\n",
      "haddox:\n",
      "Total values above k_cutoff: 31\n",
      "Values above k_cutoff and cutoff: 7\n",
      "----------------------------------------\n",
      "doud:\n",
      "Total values above k_cutoff: 32\n",
      "Values above k_cutoff and cutoff: 5\n",
      "----------------------------------------\n",
      "lee:\n",
      "Total values above k_cutoff: 17\n",
      "Values above k_cutoff and cutoff: 6\n",
      "----------------------------------------\n",
      "kelsic:\n",
      "Total values above k_cutoff: 10\n",
      "Values above k_cutoff and cutoff: 5\n",
      "----------------------------------------\n",
      "brenan:\n",
      "Total values above k_cutoff: 13\n",
      "Values above k_cutoff and cutoff: 1\n",
      "----------------------------------------\n",
      "giacomelli:\n",
      "Total values above k_cutoff: 17\n",
      "Values above k_cutoff and cutoff: 2\n",
      "----------------------------------------\n",
      "markin:\n",
      "Total values above k_cutoff: 10\n",
      "Values above k_cutoff and cutoff: 2\n",
      "----------------------------------------\n"
     ]
    }
   ],
   "source": [
    "# List of settings\n",
    "settings = [\n",
    "    [ 'dms_adrb2', 'DMS_0.625', 2.8, 2,  'jones'],\n",
    "    [ 'dms_bla', 'DMS_amp_2500_(b)', 0.01, 2, 'stiffler' ],\n",
    "    [ 'dms_env', 'DMS', 0.1, 2, 'haddox' ],\n",
    "    [ 'dms_ha_h1', 'DMS', 0.1, 2, 'doud' ],\n",
    "    [ 'dms_ha_h3', 'DMS', 0.1, 2, 'lee' ],\n",
    "    [ 'dms_infa', 'DMS_min', 0.98, 1, 'kelsic' ],\n",
    "    [ 'dms_mapk1', 'DMS_SCH', 2.5, 1, 'brenan' ],\n",
    "    [ 'dms_p53', 'DMS_null_etoposide', 1, 2, 'giacomelli' ],\n",
    "    [ 'dms_pafa', 'DMS_kcat_km', 2300000, 1, 'markin' ],\n",
    "]\n",
    "\n",
    "for namespace, dms_name, cutoff, k_cutoff, dataset_name in settings:\n",
    "    # Read the CSV file\n",
    "    df = pd.read_csv(f'dms/{namespace}_esm.csv', delimiter=',')\n",
    "    \n",
    "    # Filter based on ESM_vote >= k_cutoff\n",
    "    filtered_df = df[df['ESM_vote'] >= k_cutoff]\n",
    "\n",
    "    # Filter based on dms_name not being NaN\n",
    "    filtered_df = filtered_df[filtered_df[dms_name].notna()]  # Use dms_name variable\n",
    "    \n",
    "    # Save the filtered DataFrame to a CSV file\n",
    "    filtered_df.to_csv(f'hie_temp/{dataset_name}.csv', index=False)\n",
    "    \n",
    "    # Calculate statistics\n",
    "    total_above_k_cutoff = len(filtered_df)\n",
    "    above_cutoff_and_k_cutoff = len(filtered_df[filtered_df[dms_name] >= cutoff])  # Use dms_name variable\n",
    "    \n",
    "    # Print statistics\n",
    "    print(f'{dataset_name}:')\n",
    "    print(f'Total values above k_cutoff: {total_above_k_cutoff}')\n",
    "    print(f'Values above k_cutoff and cutoff: {above_cutoff_and_k_cutoff}')\n",
    "    print('-' * 40)\n"
   ]
  },
  {
   "cell_type": "code",
   "execution_count": 7,
   "metadata": {},
   "outputs": [],
   "source": [
    "def generate_single_aa_mutants_fasta(wt_sequence, output_file):\n",
    "    aa_alphabet = \"ACDEFGHIKLMNPQRSTVWY\"\n",
    "\n",
    "    records = []\n",
    "    \n",
    "    # Add the wild-type sequence as the first record\n",
    "    wt_record = SeqRecord(Seq(wt_sequence), id=\"WT\", description=\"Wild-type sequence\")\n",
    "    records.append(wt_record)\n",
    "    \n",
    "    for i, wt_aa in enumerate(wt_sequence):\n",
    "        for mutant_aa in aa_alphabet:\n",
    "            if mutant_aa != wt_aa:\n",
    "                mutant_sequence = wt_sequence[:i] + mutant_aa + wt_sequence[i+1:]\n",
    "                variant = f'{wt_aa}{i+1}{mutant_aa}'\n",
    "                record = SeqRecord(Seq(mutant_sequence), id=variant, description=\"\")\n",
    "                records.append(record)\n",
    "\n",
    "    with open(output_file, \"w\") as handle:\n",
    "        SeqIO.write(records, handle, \"fasta\")\n",
    "    \n",
    "    # Print the number of records\n",
    "    num_records = len(records)\n",
    "    print(f\"Number of records: {num_records}\")\n"
   ]
  },
  {
   "cell_type": "code",
   "execution_count": 9,
   "metadata": {},
   "outputs": [
    {
     "name": "stdout",
     "output_type": "stream",
     "text": [
      "883\n",
      "Number of records: 16778\n"
     ]
    },
    {
     "name": "stderr",
     "output_type": "stream",
     "text": [
      "/Users/matteodibernardo/miniconda3/envs/ML/lib/python3.10/site-packages/Bio/SeqRecord.py:215: ResourceWarning: unclosed file <_io.TextIOWrapper name='dataframes_VEP/brenan_WT.fasta' mode='rt' encoding='UTF-8'>\n",
      "  annotations = {}\n",
      "ResourceWarning: Enable tracemalloc to get the object allocation traceback\n"
     ]
    }
   ],
   "source": [
    "# Example usage\n",
    "wt_sequence = \"MNTINIAKNDFSDIELAAIPFNTLADHYGERLAREQLALEHESYEMGEARFRKMFERQLKAGEVADNAAAKPLITTLLPKMIARINDWFEEVKAKRGKRPTAFQFLQEIKPEAVAYITIKTTLACLTSADNTTVQAVASAIGRAIEDEARFGRIRDLEAKHFKKNVEEQLNKRVGHVYKKAFMQVVEADMLSKGLLGGEAWSSWHKEDSIHVGVRCIEMLIESTGMVSLHRQNAGVVGQDSETIELAPEYAEAIATRAGALAGISPMFQPCVVPPKPWTGITGGGYWANGRRPLALVRTHSKKALMRYEDVYMPEVYKAINIAQNTAWKINKKVLAVANVITKWKHCPVEDIPAIEREELPMKPEDIDMNPEALTAWKRAAAAVYRKDKARKSRRISLEFMLEQANKFANHKAIWFPYNMDWRGRVYAVSMFNPQGNDMTKGLLTLAKGKPIGKEGYYWLKIHGANCAGVDKVPFPERIKFIEENHENIMACAKSPLENTWWAEQDSPFCFLAFCFEYAGVQHHGLSYNCSLPLAFDGSCSGIQHFSAMLRDEVGGRAVNLLPSETVQDIYGIVAKKVNEILQADAINGTDNEVVTVTDENTGEISEKVKLGTKALAGQWLAYGVTRSVTKRSVMTLAYGSKEFGFRQQVLEDTIQPAIDSGKGLMFTQPNQAAGYMAKLIWESVSVTVVAAVEAMNWLKSAAKLLAAEVKDKKTGEILRKRCAVHWVTPDGFPVWQEYKKPIQTRLNLMFLGQFRLQPTINTNKDSEIDAHKQESGIAPNFVHSQDGSHLRKTVVWAHEKYGIESFALIHDSFGTIPADAANLFKAVRETMVDTYESCDVLADFYDQFADQLHESQLDKMPALPAKGNLNLRDILESDFAFA\"\n",
    "print(len(wt_sequence))\n",
    "output_file = \"wet_lab/t7_pol.fasta\"\n",
    "generate_single_aa_mutants_fasta(wt_sequence, output_file)"
   ]
  },
  {
   "cell_type": "code",
   "execution_count": 10,
   "metadata": {},
   "outputs": [
    {
     "name": "stdout",
     "output_type": "stream",
     "text": [
      "1158\n",
      "Number of records: 22003\n"
     ]
    }
   ],
   "source": [
    "# Example usage\n",
    "wt_sequence = \"VKVTVPDKNPPCPCCSTRLNSVLALIDHLKGSHGKRRVCFRCAKCGRENFNHHSTVCHFAKCKGPSEEKPPVGEWICEVCGRDFTTKIGLGQHKRLAHPMVRNQERIDASQPKETSNRGAHKKCWTKEEEELLARLEVQFEGHKNINKLIAEHITTKTNKQISDKRRQMTRKDKGEGGAAGKLGPDTGRGNHSQAKVGNNGLGGNQLPGGPAATKDKAGCHLDKEEGNRIAISQQKKGRLQGRYHKEIKRRLEEGVINTFTKAFKQLLECQEVQPLINKTAQDCFGLLESACHIRTALRGKNKKETQEKPTGGQCLKWMKKRAVKKGNYLRFQRLFHLDRGKLARIILDDIECLSCDIAPSEIYSVFKARWETPGQFAGLGNFKSTGKADNKAFSDLITAKEIKKNVQEMSKGSAPGPDGIAIGDIKGMDPGYSRTAELFNLWLTSGEIPDMVRGCRTVLIPKSTQPERLKDINNWRPITIGSILLRLFSRIITARMTKACPLNPRQRGFIRAAGCSENLKLLQTIIRTAKSEHRPLGVVFVDIAKAFDTVSHQHILHVLQQRGVDPHIIGLVSNMYKDISTFVTTKKDTHTDKIQIRVGVKQGDPLSPLLFNLAMDPLLCKLEESGNGFHRGGHTITAMAFADDLVLLSDSWENMEKNIEILEAFCDLTGLKTQGQKCHGFYIKPTKDSYTVNNCAAWTIYGTPLNMINPGDSEKYLGLQIDPWTGIARSNISSKLDSWLERINQAPLKPLQKLDILKTYTIPRLTYMVDHSEMKAGALEALDLQIRSAVKDWLHLPSCTCDAILYVSTKDGGLGVTKLAGLIPSIQARRLHRIAQSPDETMKAFLDKEQMEKQYAKLWVQAGGKREKIPSIWDALPTPVLLTTSDTLSEWEAPNPKSKYPRPCNWRRKEFEKWTKLQCQGRGIQNFKGDVISNNWIQNYRRIPHRKLLTAVQLRANVYPTREFLGRGRGDDCVKFCRHCEVDLETCGHIISYCPVTKEARIKRHNRICERLIEEAEKKDWVVFKEPHIRDAVKELFKPDLIFVKEDRALVVDVTVRFEATTTSLEEAAIEKVDKYKRLETEVRSLTNAKDVLFMGFPLGARGKWYQGNFKLLDMLGLSESRQVTVAKTLSTDALISSVDIVHMFASKARKMNLVTV\"\n",
    "print(len(wt_sequence))\n",
    "output_file = \"wet_lab/r2.fasta\"\n",
    "generate_single_aa_mutants_fasta(wt_sequence, output_file)"
   ]
  },
  {
   "cell_type": "code",
   "execution_count": 11,
   "metadata": {},
   "outputs": [
    {
     "name": "stdout",
     "output_type": "stream",
     "text": [
      "482\n",
      "Number of records: 9159\n"
     ]
    }
   ],
   "source": [
    "# Example usage\n",
    "wt_sequence = \"MKRKREDLTLWDAANVHKHKSMWYWWEYIRRKDMVNHEKTDCDVIQLLQSASVKKQKTQSDKFLTSFSVGIRPTKHQKRVLNEMLRVSNYTYNWCLWLVNEKGLKPHQFELQKIVCKTNANDVDPQYRMENDDWFFNNKMTSVKLTSCKNFCTSYKSAKSLKSKLKRPMSVSNIIQGSFCVPKLFIRHLSSKDVSTDNTNMQNRYICMMPDNFEKRSNPKERFLKLAKPITKIPPIDHDVKIVKRADGMFIMNIPCDPKYTRRNASNDTIEKRVCGIDPGGRTFATVYDPIDCCVFQVGIKEDKQYVISKLHNKIDHAHMHLTKAQNKKQQQAARERIVSLKKTHLKLKTFVDDIHLKLSSHLVKEYQYVALGKINVAQLVKTDRPKPLSKRAKRDLLYWQHYRFRQRLTHRTTNTECILDVQNEAYTSKTCGVCGTINKNLEKSETFYCDQCKYNTHRDVNGARNILLKSLRMFPFEKQQQ\"\n",
    "print(len(wt_sequence))\n",
    "output_file = \"wet_lab/fanzor.fasta\"\n",
    "generate_single_aa_mutants_fasta(wt_sequence, output_file)"
   ]
  },
  {
   "cell_type": "code",
   "execution_count": 12,
   "metadata": {},
   "outputs": [
    {
     "name": "stdout",
     "output_type": "stream",
     "text": [
      "676\n",
      "Number of records: 12845\n"
     ]
    }
   ],
   "source": [
    "# Example usage\n",
    "wt_sequence = \"LNIEDEYRLHETSKEPDVSLGSTWLSDFPQAWAETGGMGLAVRQAPLIIPLKATSTPVSIKQYPMSQEARLGIKPHIQRLLDQGILVPCQSPWNTPLLPVKKPGTNDYRPVQDLREVNKRVEDIHPTVPNPYNLLSGLPPSHQWYTVLDLKDAFFCLRLHPTSQPLFAFEWRDPEMGISGQLTWTRLPQGFKNSPTLFNEALHRDLADFRIQHPDLILLQYVDDLLLAATSELDCQQGTRALLQTLGNLGYRASAKKAQICQKQVKYLGYLLKEGQRWLTEARKETVMGQPTPKTPRQLREFLGKAGFCRLFIPGFAEMAAPLYPLTKPGTLFNWGPDQQKAYQEIKQALLTAPALGLPDLTKPFELFVDEKQGYAKGVLTQKLGPWRRPVAYLSKKLDPVAAGWPPCLRMVAAIAVLTKDAGKLTMGQPLVILAPHAVEALVKQPPDRWLSNARMTHYQALLLDTDRVQFGPVVALNPATLLPLPEEGLQHNCLDILAEAHGTRPDLTDQPLPDADHTWYTDGSSLLQEGQRKAGAAVTTETEVIWAKALPAGTSAQRAELIALTQALKMAEGKKLNVYTDSRYAFATAHIHGEIYRRRGWLTSEGKEIKNKDEILALLKALFLPKRLSIIHCPGHQKGHSAEARGNRMADQAARKAAITETPDTSTLLIENSSP\"\n",
    "print(len(wt_sequence))\n",
    "output_file = \"wet_lab/mlv.fasta\"\n",
    "generate_single_aa_mutants_fasta(wt_sequence, output_file)"
   ]
  },
  {
   "cell_type": "code",
   "execution_count": 8,
   "metadata": {},
   "outputs": [
    {
     "name": "stdout",
     "output_type": "stream",
     "text": [
      "500\n",
      "Number of records: 9501\n"
     ]
    }
   ],
   "source": [
    "# Example usage\n",
    "wt_sequence = \"MRALVVIRLSRVTDATTSPERQLESCQQLCAQRGWDVVGVAEDLDVSGAVDPFDRKRRPNLARWLAFEEQPFDVIVAYRVDRLTRSIRHLQQLVHWAEDHKKLVVSATEAHFDTTTPFAAVVIALMGTVAQMELEAIKERNRSAAHFNIRAGKYRGSLPPWGYLPTRVDGEWRLVPDPVQRERILEVYHRVVDNHEPLHLVAHDLNRRGVLSPKDYFAQLQGREPQGREWSATALKRSMISEAMLGYATLNGKTVRDDDGAPLVRAEPILTREQLEALRAELVKTSRAKPAVSTPSLLLRVLFCAVCGEPAYKFAGGGRKHPRYRCRSMGFPKHCGNGTVAMAEWDAFCEEQVLDLLGDAERLEKVWVAGSDSAVELAEVNAELVDLTSLIGSPAYRAGSPQREALDARIAALAARQEELEGLEARPSGWEWRETGQRFGDWWREQDTAAKNTWLRSMNVRLTFDVRGGLTRTIDFGDLQEYEQHLRLGSVVERLHTGMS\"\n",
    "print(len(wt_sequence))\n",
    "output_file = \"wet_lab/bxb1.fasta\"\n",
    "generate_single_aa_mutants_fasta(wt_sequence, output_file)"
   ]
  },
  {
   "cell_type": "code",
   "execution_count": 13,
   "metadata": {},
   "outputs": [
    {
     "name": "stdout",
     "output_type": "stream",
     "text": [
      "182\n",
      "Number of records: 3459\n"
     ]
    }
   ],
   "source": [
    "# Example usage\n",
    "wt_sequence = \"MTVTDDYLANNVDYASGFKGPLPMPPSKHIAIVACMDARLDVYRMLGIKEGEAHVIRNAGCVVTDDVIRSLAISQRLLGTREIILLHHTDCGMLTFTDDDFKRAIQDETGIRPTWSPESYPDAVEDVRQSLRRIEVNPFVTKHTSLRGFVFDVATGKLNEVTPAAALEARKEAELAAATAEQ\"\n",
    "print(len(wt_sequence))\n",
    "output_file = \"wet_lab/ca.fasta\"\n",
    "generate_single_aa_mutants_fasta(wt_sequence, output_file)"
   ]
  }
 ],
 "metadata": {
  "kernelspec": {
   "display_name": "esm",
   "language": "python",
   "name": "python3"
  },
  "language_info": {
   "codemirror_mode": {
    "name": "ipython",
    "version": 3
   },
   "file_extension": ".py",
   "mimetype": "text/x-python",
   "name": "python",
   "nbconvert_exporter": "python",
   "pygments_lexer": "ipython3",
   "version": "3.10.10"
  },
  "orig_nbformat": 4
 },
 "nbformat": 4,
 "nbformat_minor": 2
}
